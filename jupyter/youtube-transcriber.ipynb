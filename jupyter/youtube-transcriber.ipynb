{
 "cells": [
  {
   "cell_type": "code",
   "execution_count": 1,
   "id": "304b8216",
   "metadata": {
    "scrolled": true
   },
   "outputs": [
    {
     "name": "stdout",
     "output_type": "stream",
     "text": [
      "Collecting pytube\n",
      "  Downloading pytube-12.1.0-py3-none-any.whl (56 kB)\n",
      "     -------------------------------------- 56.5/56.5 kB 984.7 kB/s eta 0:00:00\n",
      "Installing collected packages: pytube\n",
      "Successfully installed pytube-12.1.0\n"
     ]
    }
   ],
   "source": [
    "!pip install pytube"
   ]
  },
  {
   "cell_type": "code",
   "execution_count": 9,
   "id": "34d86e2e",
   "metadata": {},
   "outputs": [
    {
     "name": "stdout",
     "output_type": "stream",
     "text": [
      "Collecting requests\n",
      "  Using cached requests-2.27.1-py2.py3-none-any.whl (63 kB)\n",
      "Collecting idna<4,>=2.5\n",
      "  Using cached idna-3.3-py3-none-any.whl (61 kB)\n",
      "Collecting certifi>=2017.4.17\n",
      "  Downloading certifi-2022.5.18.1-py3-none-any.whl (155 kB)\n",
      "     -------------------------------------- 155.2/155.2 kB 3.2 MB/s eta 0:00:00\n",
      "Collecting charset-normalizer~=2.0.0\n",
      "  Using cached charset_normalizer-2.0.12-py3-none-any.whl (39 kB)\n",
      "Collecting urllib3<1.27,>=1.21.1\n",
      "  Using cached urllib3-1.26.9-py2.py3-none-any.whl (138 kB)\n",
      "Installing collected packages: urllib3, idna, charset-normalizer, certifi, requests\n",
      "Successfully installed certifi-2022.5.18.1 charset-normalizer-2.0.12 idna-3.3 requests-2.27.1 urllib3-1.26.9\n"
     ]
    }
   ],
   "source": [
    "!pip install requests"
   ]
  },
  {
   "cell_type": "code",
   "execution_count": 2,
   "id": "7bcc4202",
   "metadata": {},
   "outputs": [],
   "source": [
    "api_key= '124dbc1ff8f94089b01fe2a62b22a2ae'"
   ]
  },
  {
   "cell_type": "code",
   "execution_count": 3,
   "id": "556b444a",
   "metadata": {},
   "outputs": [],
   "source": [
    "from pytube import YouTube"
   ]
  },
  {
   "cell_type": "code",
   "execution_count": 4,
   "id": "465efb1d",
   "metadata": {},
   "outputs": [],
   "source": [
    "video= YouTube('https://www.youtube.com/shorts/OtqQYqRNDGI')\n",
    "yt= video.streams.get_audio_only()"
   ]
  },
  {
   "cell_type": "code",
   "execution_count": 5,
   "id": "61ab0806",
   "metadata": {},
   "outputs": [
    {
     "data": {
      "text/plain": [
       "'C:\\\\Users\\\\kunal\\\\OneDrive\\\\Desktop\\\\speechxtext\\\\🌶 Hot Topics in Tech Data Science Explained SHORTS.mp4'"
      ]
     },
     "execution_count": 5,
     "metadata": {},
     "output_type": "execute_result"
    }
   ],
   "source": [
    "yt.download()"
   ]
  },
  {
   "cell_type": "code",
   "execution_count": 7,
   "id": "ccab5f4e",
   "metadata": {},
   "outputs": [
    {
     "name": "stdout",
     "output_type": "stream",
     "text": [
      "C:\\Users\\kunal\\OneDrive\\Desktop\\speechxtext\\🌶 Hot Topics in Tech Data Science Explained SHORTS.mp4\n"
     ]
    }
   ],
   "source": [
    "import os\n",
    "current_dir= os.getcwd()\n",
    "\n",
    "for file in os.listdir(current_dir):\n",
    "    if file.endswith('.mp4'):\n",
    "        mp4_file= os.path.join(current_dir, file)\n",
    "        print(mp4_file)"
   ]
  },
  {
   "cell_type": "code",
   "execution_count": 10,
   "id": "65ede731",
   "metadata": {},
   "outputs": [
    {
     "name": "stdout",
     "output_type": "stream",
     "text": [
      "https://cdn.assemblyai.com/upload/797f1843-de26-4485-84a8-0307d05e87cc\n"
     ]
    }
   ],
   "source": [
    "import sys\n",
    "import time\n",
    "import requests\n",
    "\n",
    "filename= mp4_file\n",
    "\n",
    "def read_file(filename, chunk_size= 5242880):\n",
    "    with open(filename, 'rb') as _file:\n",
    "        while True:\n",
    "            data= _file.read(chunk_size)\n",
    "            if not data:\n",
    "                break\n",
    "            yield data\n",
    "            \n",
    "headers= {'authorization': api_key}\n",
    "response= requests.post('https://api.assemblyai.com/v2/upload',\n",
    "                       headers= headers, data= read_file(filename))\n",
    "\n",
    "audio_url= response.json()['upload_url']\n",
    "print(audio_url)"
   ]
  },
  {
   "cell_type": "code",
   "execution_count": 15,
   "id": "59e35c15",
   "metadata": {},
   "outputs": [
    {
     "name": "stdout",
     "output_type": "stream",
     "text": [
      "{'id': 'ol0xkl14xp-7cc7-4a49-8e60-7e400ebdc3a7', 'language_model': 'assemblyai_default', 'acoustic_model': 'assemblyai_default', 'language_code': 'en_us', 'status': 'queued', 'audio_url': 'https://cdn.assemblyai.com/upload/797f1843-de26-4485-84a8-0307d05e87cc', 'text': None, 'words': None, 'utterances': None, 'confidence': None, 'audio_duration': None, 'punctuate': True, 'format_text': True, 'dual_channel': None, 'webhook_url': None, 'webhook_status_code': None, 'speed_boost': False, 'auto_highlights_result': None, 'auto_highlights': False, 'audio_start_from': None, 'audio_end_at': None, 'word_boost': [], 'boost_param': None, 'filter_profanity': False, 'redact_pii': False, 'redact_pii_audio': False, 'redact_pii_audio_quality': None, 'redact_pii_policies': None, 'redact_pii_sub': None, 'speaker_labels': False, 'content_safety': False, 'iab_categories': False, 'content_safety_labels': {}, 'iab_categories_result': {}, 'language_detection': False, 'custom_spelling': None, 'disfluencies': False, 'sentiment_analysis': False, 'sentiment_analysis_results': None, 'auto_chapters': False, 'chapters': None, 'entity_detection': False, 'entities': None}\n"
     ]
    }
   ],
   "source": [
    "endpoint= 'https://api.assemblyai.com/v2/transcript'\n",
    "json= {\n",
    "    'audio_url': audio_url\n",
    "}\n",
    "headers= {\n",
    "    'authorization': api_key,\n",
    "    'content-type': 'application/json'\n",
    "}\n",
    "\n",
    "transcript_input_response= requests.post(endpoint, json= json, headers= headers)\n",
    "print(transcript_input_response.json())"
   ]
  },
  {
   "cell_type": "code",
   "execution_count": 16,
   "id": "f34dc8c4",
   "metadata": {},
   "outputs": [
    {
     "data": {
      "text/plain": [
       "'ol0xkl14xp-7cc7-4a49-8e60-7e400ebdc3a7'"
      ]
     },
     "execution_count": 16,
     "metadata": {},
     "output_type": "execute_result"
    }
   ],
   "source": [
    "transcript_id= transcript_input_response.json()['id']\n",
    "transcript_id"
   ]
  },
  {
   "cell_type": "code",
   "execution_count": 18,
   "id": "3a06cd32",
   "metadata": {},
   "outputs": [
    {
     "data": {
      "text/plain": [
       "<Response [200]>"
      ]
     },
     "execution_count": 18,
     "metadata": {},
     "output_type": "execute_result"
    }
   ],
   "source": [
    "endpoint= f'https://api.assemblyai.com/v2/transcript/{transcript_id}'\n",
    "headers= {\n",
    "    'authorization': api_key\n",
    "}\n",
    "\n",
    "transcript_output_response= requests.get(endpoint, headers= headers)\n",
    "transcript_output_response"
   ]
  },
  {
   "cell_type": "code",
   "execution_count": 20,
   "id": "40f474ee",
   "metadata": {},
   "outputs": [
    {
     "data": {
      "text/plain": [
       "'completed'"
      ]
     },
     "execution_count": 20,
     "metadata": {},
     "output_type": "execute_result"
    }
   ],
   "source": [
    "transcript_output_response.json()['status']"
   ]
  },
  {
   "cell_type": "code",
   "execution_count": 21,
   "id": "702988b9",
   "metadata": {},
   "outputs": [
    {
     "data": {
      "text/plain": [
       "\"Data science is a bit of a buzzword and a hot topic in tech these days. As a practicing data scientist, I figured I'd explain what the field is. In this short, to spice things up, I will be explaining what the field is after after I eat one of these. Habaneros, I forgot this. Okay, the most basic level data science is problem solving. It's a multidisciplinary approach to problem solving. So we borrow from the field of computer science, from statistics and from business. A typical problem would be to predict if someone will buy your products after visiting your website site. If you want to learn more about data science, machine learning, artificial intelligence, check out my YouTube channel, part of some fun project videos. I also have a lot of live content about how to break into the field. I massively regret.\""
      ]
     },
     "execution_count": 21,
     "metadata": {},
     "output_type": "execute_result"
    }
   ],
   "source": [
    "transcript_output_response.json()['text']"
   ]
  },
  {
   "cell_type": "code",
   "execution_count": 25,
   "id": "322a5204",
   "metadata": {},
   "outputs": [],
   "source": [
    "yt_text= open('datascience-short.txt', 'w')\n",
    "yt_text.write(transcript_output_response.json()['text'])\n",
    "yt_text.close()"
   ]
  },
  {
   "cell_type": "code",
   "execution_count": 26,
   "id": "bd8b5b74",
   "metadata": {},
   "outputs": [],
   "source": [
    "srt_endpoint= endpoint+ '/srt'\n",
    "srt_response= requests.get(srt_endpoint, headers= headers)\n",
    "\n",
    "with open('datascience-short.srt', 'w') as _file:\n",
    "    _file.write(srt_response.text)"
   ]
  },
  {
   "cell_type": "code",
   "execution_count": null,
   "id": "e6348659",
   "metadata": {},
   "outputs": [],
   "source": []
  }
 ],
 "metadata": {
  "kernelspec": {
   "display_name": "Python 3 (ipykernel)",
   "language": "python",
   "name": "python3"
  },
  "language_info": {
   "codemirror_mode": {
    "name": "ipython",
    "version": 3
   },
   "file_extension": ".py",
   "mimetype": "text/x-python",
   "name": "python",
   "nbconvert_exporter": "python",
   "pygments_lexer": "ipython3",
   "version": "3.9.13"
  }
 },
 "nbformat": 4,
 "nbformat_minor": 5
}
